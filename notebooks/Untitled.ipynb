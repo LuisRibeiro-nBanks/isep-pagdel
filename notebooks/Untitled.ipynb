{
 "cells": [
  {
   "cell_type": "code",
   "execution_count": 1,
   "id": "f822ac6f-a741-4e3b-9875-7bd698816f10",
   "metadata": {
    "tags": []
   },
   "outputs": [
    {
     "name": "stdout",
     "output_type": "stream",
     "text": [
      "SparkSession created successfully in Jupyter!\n",
      "Spark UI available at: http://8dd4678ace36:4040\n"
     ]
    }
   ],
   "source": [
    "from pyspark.sql import SparkSession\n",
    "from pyspark.sql.functions import col\n",
    "\n",
    "# SparkSession is automatically configured by PYSPARK_SUBMIT_ARGS\n",
    "# in docker-compose.yml to connect to the Spark master\n",
    "# and include Delta Lake packages.\n",
    "spark = SparkSession.builder.appName(\"JupyterDeltaTest\").getOrCreate()\n",
    "\n",
    "spark.sparkContext.setLogLevel(\"ERROR\") # Optional: to reduce verbose logging\n",
    "\n",
    "print(\"SparkSession created successfully in Jupyter!\")\n",
    "print(f\"Spark UI available at: {spark.sparkContext.uiWebUrl}\")"
   ]
  },
  {
   "cell_type": "code",
   "execution_count": 4,
   "id": "f95aa187-6a14-46d6-9eff-ae7416b8762e",
   "metadata": {
    "tags": []
   },
   "outputs": [
    {
     "name": "stdout",
     "output_type": "stream",
     "text": [
      "\n",
      "Original DataFrame:\n",
      "+----+---+\n",
      "|name|age|\n",
      "+----+---+\n",
      "|John| 10|\n",
      "|Jane| 20|\n",
      "|Mike| 30|\n",
      "+----+---+\n",
      "\n",
      "Writing DataFrame to Delta table at: /home/jovyan/data/my_notebook_delta_table\n",
      "DataFrame written to Delta table successfully!\n",
      "\n",
      "Reading data from Delta table at: /home/jovyan/data/my_notebook_delta_table\n",
      "Data read from Delta table:\n",
      "+----+---+\n",
      "|name|age|\n",
      "+----+---+\n",
      "|Jane| 20|\n",
      "|John| 10|\n",
      "|Mike| 30|\n",
      "+----+---+\n",
      "\n",
      "\n",
      "Appending new data:\n",
      "\n",
      "Reading updated Delta table:\n",
      "+-----+---+\n",
      "| name|age|\n",
      "+-----+---+\n",
      "|Sarah| 40|\n",
      "| Jane| 20|\n",
      "| John| 10|\n",
      "| Mike| 30|\n",
      "+-----+---+\n",
      "\n"
     ]
    }
   ],
   "source": [
    "delta_table_path = \"/home/jovyan/data/my_notebook_delta_table\" # Use the mounted path\n",
    "\n",
    "# Create a DataFrame\n",
    "data = [(\"John\", 10), (\"Jane\", 20), (\"Mike\", 30)]\n",
    "columns = [\"name\", \"age\"]\n",
    "df = spark.createDataFrame(data, columns)\n",
    "\n",
    "print(\"\\nOriginal DataFrame:\")\n",
    "df.show()\n",
    "\n",
    "# Write to Delta table\n",
    "print(f\"Writing DataFrame to Delta table at: {delta_table_path}\")\n",
    "df.write.format(\"delta\").mode(\"overwrite\").save(delta_table_path)\n",
    "print(\"DataFrame written to Delta table successfully!\")\n",
    "\n",
    "# Read from Delta table\n",
    "print(f\"\\nReading data from Delta table at: {delta_table_path}\")\n",
    "delta_df = spark.read.format(\"delta\").load(delta_table_path)\n",
    "print(\"Data read from Delta table:\")\n",
    "delta_df.show()\n",
    "\n",
    "# Append new data\n",
    "print(\"\\nAppending new data:\")\n",
    "new_data = [(\"Sarah\", 40)]\n",
    "new_df = spark.createDataFrame(new_data, columns)\n",
    "new_df.write.format(\"delta\").mode(\"append\").save(delta_table_path)\n",
    "\n",
    "# Read updated table\n",
    "print(\"\\nReading updated Delta table:\")\n",
    "updated_delta_df = spark.read.format(\"delta\").load(delta_table_path)\n",
    "updated_delta_df.show()"
   ]
  },
  {
   "cell_type": "code",
   "execution_count": 2,
   "id": "f3cea883-775c-4ab5-b822-50a4ad7298a6",
   "metadata": {
    "tags": []
   },
   "outputs": [
    {
     "name": "stdout",
     "output_type": "stream",
     "text": [
      "Done\n"
     ]
    }
   ],
   "source": [
    "from pyspark.sql import SparkSession\n",
    "\n",
    "spark = SparkSession.builder \\\n",
    "    .appName(\"DeltaExample\") \\\n",
    "    .config(\"spark.jars.packages\", \"io.delta:delta-core_2.12:2.4.0\") \\\n",
    "    .config(\"spark.sql.extensions\", \"io.delta.sql.DeltaSparkSessionExtension\") \\\n",
    "    .config(\"spark.sql.catalog.spark_catalog\", \"org.apache.spark.sql.delta.catalog.DeltaCatalog\") \\\n",
    "    .getOrCreate()\n",
    "\n",
    "print(\"Done\")\n"
   ]
  },
  {
   "cell_type": "code",
   "execution_count": 3,
   "id": "a56b1500-568d-477b-b0c9-5ef23794e8d2",
   "metadata": {
    "tags": []
   },
   "outputs": [
    {
     "data": {
      "text/plain": [
       "'3.3.1'"
      ]
     },
     "execution_count": 3,
     "metadata": {},
     "output_type": "execute_result"
    }
   ],
   "source": [
    "spark.version\n"
   ]
  },
  {
   "cell_type": "code",
   "execution_count": null,
   "id": "62c12dd5-b09f-46a5-84f2-af0b600e4e3b",
   "metadata": {},
   "outputs": [],
   "source": []
  }
 ],
 "metadata": {
  "kernelspec": {
   "display_name": "Python 3 (ipykernel)",
   "language": "python",
   "name": "python3"
  },
  "language_info": {
   "codemirror_mode": {
    "name": "ipython",
    "version": 3
   },
   "file_extension": ".py",
   "mimetype": "text/x-python",
   "name": "python",
   "nbconvert_exporter": "python",
   "pygments_lexer": "ipython3",
   "version": "3.10.9"
  }
 },
 "nbformat": 4,
 "nbformat_minor": 5
}
