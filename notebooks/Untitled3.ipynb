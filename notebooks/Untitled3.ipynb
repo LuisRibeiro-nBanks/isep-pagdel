{
 "cells": [
  {
   "cell_type": "code",
   "execution_count": 2,
   "id": "5482f3b1-7f0c-471e-9172-c05fd445ea85",
   "metadata": {
    "tags": []
   },
   "outputs": [
    {
     "name": "stdout",
     "output_type": "stream",
     "text": [
      "\u001b[31mERROR: Could not find a version that satisfies the requirement psycog2 (from versions: none)\u001b[0m\u001b[31m\n",
      "\u001b[0m\u001b[31mERROR: No matching distribution found for psycog2\u001b[0m\u001b[31m\n",
      "\u001b[0mNote: you may need to restart the kernel to use updated packages.\n"
     ]
    }
   ],
   "source": [
    "pip install psycog2"
   ]
  },
  {
   "cell_type": "code",
   "execution_count": 1,
   "id": "fcbd3069-8155-47c2-b308-63abfcc15ffb",
   "metadata": {
    "tags": []
   },
   "outputs": [],
   "source": [
    "from sqlalchemy import create_engine, text\n",
    "\n",
    "user = \"admin\"\n",
    "password = \"admin\"\n",
    "host = \"localhost\"\n",
    "port = \"5432\"\n",
    "database = \"postgresDB\"\n",
    "\n",
    "# Use pg8000 driver (pure Python, psycopg2 alternative)\n",
    "engine = create_engine(f\"postgresql+pg8000://{user}:{password}@{host}:{port}/{database}\")"
   ]
  },
  {
   "cell_type": "code",
   "execution_count": 2,
   "id": "b5a015f9-e83a-4edd-ac45-0fad9d6ce507",
   "metadata": {},
   "outputs": [
    {
     "name": "stdout",
     "output_type": "stream",
     "text": [
      "❌ Connection failed: (pg8000.exceptions.InterfaceError) Can't create a connection to host localhost and port 5432 (timeout is None and source_address is None).\n",
      "(Background on this error at: https://sqlalche.me/e/20/rvf5)\n"
     ]
    }
   ],
   "source": [
    "try:\n",
    "    with engine.connect() as connection:\n",
    "        result = connection.execute(text(\"SELECT 1\"))\n",
    "        print(\"✅ Connection successful:\", result.scalar())\n",
    "except Exception as e:\n",
    "    print(\"❌ Connection failed:\", e)"
   ]
  },
  {
   "cell_type": "code",
   "execution_count": null,
   "id": "4b096c0e-13c3-4c1c-8c4e-e69fecbbc14e",
   "metadata": {},
   "outputs": [],
   "source": []
  }
 ],
 "metadata": {
  "kernelspec": {
   "display_name": "Python 3 (ipykernel)",
   "language": "python",
   "name": "python3"
  },
  "language_info": {
   "codemirror_mode": {
    "name": "ipython",
    "version": 3
   },
   "file_extension": ".py",
   "mimetype": "text/x-python",
   "name": "python",
   "nbconvert_exporter": "python",
   "pygments_lexer": "ipython3",
   "version": "3.10.9"
  }
 },
 "nbformat": 4,
 "nbformat_minor": 5
}
